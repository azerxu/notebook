{
 "metadata": {
  "name": ""
 },
 "nbformat": 3,
 "nbformat_minor": 0,
 "worksheets": [
  {
   "cells": [
    {
     "cell_type": "markdown",
     "metadata": {
      "slideshow": {
       "slide_type": "slide"
      }
     },
     "source": [
      "The Different Between except: and except Exception:\n",
      "===================================================\n",
      "\n",
      "\"except:\" handles all exceptions.\n",
      "\n",
      "\"except Exception:\" handles exceptions derived from the Exception class.\n",
      "\n",
      "You can build custom exceptions not derived from the Exception class which will not be handled by \"except Exception\" but that's not recommended."
     ]
    },
    {
     "cell_type": "code",
     "collapsed": false,
     "input": [
      "class MyError(BaseException):\n",
      "    def __init__(self, value):\n",
      "        self.value = value\n",
      "    def __str__(self):\n",
      "        return repr(self.value)\n",
      "\n",
      "def func():\n",
      "    try:\n",
      "        raise MyError(4)\n",
      "    except:\n",
      "        print \"This will catch the exception\"\n",
      "\n",
      "def func2():\n",
      "    try:\n",
      "       raise MyError(4)\n",
      "    except Exception:\n",
      "        print \"This won't\"\n",
      "\n",
      "if __name__ == '__main__':\n",
      "    func()   # This will catch the exception\n",
      "    func2()  # raises __main__.MyError: 4"
     ],
     "language": "python",
     "metadata": {
      "slideshow": {
       "slide_type": "slide"
      }
     },
     "outputs": [
      {
       "ename": "MyError",
       "evalue": "4",
       "output_type": "pyerr",
       "traceback": [
        "\u001b[1;31m---------------------------------------------------------------------------\u001b[0m\n\u001b[1;31mMyError\u001b[0m                                   Traceback (most recent call last)",
        "\u001b[1;32m<ipython-input-1-e350b2a714aa>\u001b[0m in \u001b[0;36m<module>\u001b[1;34m()\u001b[0m\n\u001b[0;32m     19\u001b[0m \u001b[1;32mif\u001b[0m \u001b[0m__name__\u001b[0m \u001b[1;33m==\u001b[0m \u001b[1;34m'__main__'\u001b[0m\u001b[1;33m:\u001b[0m\u001b[1;33m\u001b[0m\u001b[0m\n\u001b[0;32m     20\u001b[0m     \u001b[0mfunc\u001b[0m\u001b[1;33m(\u001b[0m\u001b[1;33m)\u001b[0m \u001b[1;31m# This will catch the exception\u001b[0m\u001b[1;33m\u001b[0m\u001b[0m\n\u001b[1;32m---> 21\u001b[1;33m     \u001b[0mfunc2\u001b[0m\u001b[1;33m(\u001b[0m\u001b[1;33m)\u001b[0m \u001b[1;31m# raises __main__.MyError: 4\u001b[0m\u001b[1;33m\u001b[0m\u001b[0m\n\u001b[0m",
        "\u001b[1;32m<ipython-input-1-e350b2a714aa>\u001b[0m in \u001b[0;36mfunc2\u001b[1;34m()\u001b[0m\n\u001b[0;32m     13\u001b[0m \u001b[1;32mdef\u001b[0m \u001b[0mfunc2\u001b[0m\u001b[1;33m(\u001b[0m\u001b[1;33m)\u001b[0m\u001b[1;33m:\u001b[0m\u001b[1;33m\u001b[0m\u001b[0m\n\u001b[0;32m     14\u001b[0m     \u001b[1;32mtry\u001b[0m\u001b[1;33m:\u001b[0m\u001b[1;33m\u001b[0m\u001b[0m\n\u001b[1;32m---> 15\u001b[1;33m        \u001b[1;32mraise\u001b[0m \u001b[0mMyError\u001b[0m\u001b[1;33m(\u001b[0m\u001b[1;36m4\u001b[0m\u001b[1;33m)\u001b[0m\u001b[1;33m\u001b[0m\u001b[0m\n\u001b[0m\u001b[0;32m     16\u001b[0m     \u001b[1;32mexcept\u001b[0m \u001b[0mException\u001b[0m\u001b[1;33m:\u001b[0m\u001b[1;33m\u001b[0m\u001b[0m\n\u001b[0;32m     17\u001b[0m         \u001b[1;32mprint\u001b[0m \u001b[1;34m\"This won't\"\u001b[0m\u001b[1;33m\u001b[0m\u001b[0m\n",
        "\u001b[1;31mMyError\u001b[0m: 4"
       ]
      },
      {
       "output_type": "stream",
       "stream": "stdout",
       "text": [
        "This will catch the exception\n"
       ]
      }
     ],
     "prompt_number": 1
    },
    {
     "cell_type": "markdown",
     "metadata": {},
     "source": [
      "Show SVG object in IPython\n",
      "=========================="
     ]
    },
    {
     "cell_type": "code",
     "collapsed": false,
     "input": [
      "class MyCircle(object):\n",
      "    \n",
      "    def _repr_html_(self):\n",
      "        return \"&#x25CB;\"\n",
      "\n",
      "    def _repr_svg_(self):\n",
      "        return \"\"\"<svg width=100px height=100px>\n",
      "           <circle cx=\"50\" cy=\"50\" r=\"20\" stroke=\"black\" stroke-width=\"1\" fill=\"white\"/>\n",
      "        </svg>\"\"\"\n",
      "    \n",
      "    def _repr_latex_(self):\n",
      "        return r\"$\\bigcirc$\"\n",
      "\n",
      "    def _repr_javascript_(self):\n",
      "        return \"alert('I am a circle!');\""
     ],
     "language": "python",
     "metadata": {},
     "outputs": [],
     "prompt_number": 1
    },
    {
     "cell_type": "code",
     "collapsed": false,
     "input": [
      "from IPython.display import display_svg\n",
      "from IPython.display import display_latex\n",
      "from IPython.display import display_html\n",
      "c = MyCircle()\n",
      "display_svg(c)\n",
      "display_html(c)\n",
      "display_latex(c)"
     ],
     "language": "python",
     "metadata": {},
     "outputs": [
      {
       "metadata": {},
       "output_type": "display_data",
       "svg": [
        "<svg width=100px height=100px>\n",
        "           <circle cx=\"50\" cy=\"50\" r=\"20\" stroke=\"black\" stroke-width=\"1\" fill=\"white\"/>\n",
        "        </svg>"
       ]
      },
      {
       "html": [
        "&#x25CB;"
       ],
       "metadata": {},
       "output_type": "display_data"
      },
      {
       "latex": [
        "$\\bigcirc$"
       ],
       "metadata": {},
       "output_type": "display_data"
      }
     ],
     "prompt_number": 5
    }
   ],
   "metadata": {}
  }
 ]
}